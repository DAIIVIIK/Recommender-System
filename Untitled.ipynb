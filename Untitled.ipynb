{
 "cells": [
  {
   "cell_type": "code",
   "execution_count": null,
   "metadata": {},
   "outputs": [],
   "source": [
    "import numpy as np\n",
    "import random\n",
    "import math\n",
    "from cur import cur_decomposition\n",
    "\n",
    "if __name__ == '__main__':\n",
    "\n",
    "    f=open(\"ratings.dat\", \"r\")\n",
    "    ratings = []\n",
    "    if f.mode == 'r':\n",
    "        contents = f.read()\n",
    "        ratings = contents.strip().split('\\n')\n",
    "    f.close()\n",
    "\n",
    "    ratings_list =[]\n",
    "    for r in ratings:\n",
    "        r = r.split('::')\n",
    "        ratings_list.append([int(r[0]), int(r[1]), int(r[2]), int(r[3])])\n",
    "\n",
    "    print(\"ratings done\")\n",
    "\n",
    "    random.shuffle(ratings_list)\n",
    "    test_data = ratings_list[int(0.7*len(ratings_list)):]\n",
    "    train_data =  ratings_list[:int(0.7*len(ratings_list))]\n",
    "\n",
    "    NO_USERS = 6041 #Max of userID\n",
    "    NO_MOVIES = 3953 #max of movieID\n",
    "    matrix = np.zeros((NO_MOVIES , NO_USERS))\n",
    "    matrix2 = np.zeros((NO_MOVIES , NO_USERS))\n",
    "\n",
    "    for r in ratings_list:\n",
    "        matrix[r[1]][r[0]] = r[2]\n",
    "\n",
    "    C, U, R = cur_decomposition(matrix,2)\n",
    "\n",
    "    print(C.shape, U.shape, R.shape)\n",
    "\n",
    "    temp = np.dot(U,R)\n",
    "    matrix_new_cur = np.dot(C,temp)\n",
    "\n",
    "    error_cur = (matrix - matrix_new_cur)\n",
    "\n",
    "    sum2 = 0\n",
    "    for i in range(len(error_cur)):\n",
    "        for j in range(len(error_cur[i])):\n",
    "            sum2+=(error_cur[i][j]*error_cur[i][j])\n",
    "\n",
    "    sum2/=(NO_USERS*NO_MOVIES)\n",
    "\n",
    "    rmse_cur = math.sqrt(sum2)\n",
    "\n",
    "    print(rmse_cur)\n"
   ]
  }
 ],
 "metadata": {
  "kernelspec": {
   "display_name": "Python 3",
   "language": "python",
   "name": "python3"
  },
  "language_info": {
   "codemirror_mode": {
    "name": "ipython",
    "version": 3
   },
   "file_extension": ".py",
   "mimetype": "text/x-python",
   "name": "python",
   "nbconvert_exporter": "python",
   "pygments_lexer": "ipython3",
   "version": "3.7.3"
  }
 },
 "nbformat": 4,
 "nbformat_minor": 2
}
